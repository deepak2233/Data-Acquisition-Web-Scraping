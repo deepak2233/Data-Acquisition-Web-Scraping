{
 "cells": [
  {
   "cell_type": "markdown",
   "metadata": {},
   "source": [
    "### Task4 : To scrape the Fantasy Football Leaders (2015 fantasypros.com"
   ]
  },
  {
   "cell_type": "code",
   "execution_count": 2,
   "metadata": {},
   "outputs": [],
   "source": [
    "import requests"
   ]
  },
  {
   "cell_type": "code",
   "execution_count": 3,
   "metadata": {},
   "outputs": [],
   "source": [
    "player_list = requests.get(\"https://www.fantasypros.com/nfl/reports/leaders/qb.php?year=2015\")"
   ]
  },
  {
   "cell_type": "code",
   "execution_count": 67,
   "metadata": {},
   "outputs": [],
   "source": [
    "# print(player_list.content)"
   ]
  },
  {
   "cell_type": "markdown",
   "metadata": {},
   "source": [
    "### Parse the website using BeautifulSoup tools"
   ]
  },
  {
   "cell_type": "code",
   "execution_count": 6,
   "metadata": {},
   "outputs": [],
   "source": [
    "from bs4 import BeautifulSoup as soup"
   ]
  },
  {
   "cell_type": "code",
   "execution_count": 11,
   "metadata": {},
   "outputs": [],
   "source": [
    "list_soup = soup(player_list.text,\"html.parser\")"
   ]
  },
  {
   "cell_type": "code",
   "execution_count": 66,
   "metadata": {},
   "outputs": [],
   "source": [
    "# print(list_soup.prettify)"
   ]
  },
  {
   "cell_type": "code",
   "execution_count": 36,
   "metadata": {},
   "outputs": [
    {
     "name": "stdout",
     "output_type": "stream",
     "text": [
      "1\n"
     ]
    }
   ],
   "source": [
    "table =list_soup.findAll(\"table\", {})\n",
    "print(len(list_table))"
   ]
  },
  {
   "cell_type": "code",
   "execution_count": 37,
   "metadata": {},
   "outputs": [
    {
     "name": "stdout",
     "output_type": "stream",
     "text": [
      "[<h1>Fantasy Football Leaders (2015)</h1>]\n"
     ]
    }
   ],
   "source": [
    "print(list_soup.findAll(\"h1\"))"
   ]
  },
  {
   "cell_type": "code",
   "execution_count": 38,
   "metadata": {},
   "outputs": [
    {
     "name": "stdout",
     "output_type": "stream",
     "text": [
      "[<h2>Loading your leagues</h2>, <h1>Fantasy Football Leaders (2015)</h1>]\n"
     ]
    }
   ],
   "source": [
    "print(list_soup.findAll([\"h1\",\"h2\"]))"
   ]
  },
  {
   "cell_type": "code",
   "execution_count": 65,
   "metadata": {},
   "outputs": [],
   "source": [
    "list_table = table[0]\n",
    "# print(list_table)"
   ]
  },
  {
   "cell_type": "markdown",
   "metadata": {},
   "source": [
    "### Extract Useful Information\n",
    "- Remove undesired tags\n",
    "- Extract table header & data"
   ]
  },
  {
   "cell_type": "code",
   "execution_count": 40,
   "metadata": {},
   "outputs": [
    {
     "name": "stdout",
     "output_type": "stream",
     "text": [
      "Player\n"
     ]
    }
   ],
   "source": [
    "list_header = list_table.findAll(\"th\")\n",
    "print(list_header[1].text)"
   ]
  },
  {
   "cell_type": "code",
   "execution_count": 41,
   "metadata": {},
   "outputs": [
    {
     "name": "stdout",
     "output_type": "stream",
     "text": [
      "6\n"
     ]
    }
   ],
   "source": [
    "print(len(list_header))"
   ]
  },
  {
   "cell_type": "code",
   "execution_count": 42,
   "metadata": {},
   "outputs": [
    {
     "name": "stdout",
     "output_type": "stream",
     "text": [
      "['Rank', 'Player', 'Team', 'Points', 'Games', 'Avg']\n"
     ]
    }
   ],
   "source": [
    "col_title = [ct.text for ct in list_header]\n",
    "print(col_title)"
   ]
  },
  {
   "cell_type": "code",
   "execution_count": 46,
   "metadata": {},
   "outputs": [
    {
     "name": "stdout",
     "output_type": "stream",
     "text": [
      "76\n"
     ]
    }
   ],
   "source": [
    "row_data = list_table.findAll(\"tr\")[1:]\n",
    "print(len(row_data))"
   ]
  },
  {
   "cell_type": "code",
   "execution_count": 47,
   "metadata": {},
   "outputs": [
    {
     "name": "stdout",
     "output_type": "stream",
     "text": [
      "1\n",
      "Cam Newton\n",
      "NE\n",
      "389.08\n",
      "16\n",
      "24.32\n"
     ]
    }
   ],
   "source": [
    "first_row = row_data[0].findAll(\"td\",{})\n",
    "for f in first_row:\n",
    "    print(f.text)"
   ]
  },
  {
   "cell_type": "code",
   "execution_count": 48,
   "metadata": {},
   "outputs": [
    {
     "name": "stdout",
     "output_type": "stream",
     "text": [
      "2\n",
      "Tom Brady\n",
      "TB\n",
      "343.70\n",
      "16\n",
      "21.48\n"
     ]
    }
   ],
   "source": [
    "second_row = row_data[1].findAll(\"td\",{})\n",
    "for s in second_row:\n",
    "    print(s.text)"
   ]
  },
  {
   "cell_type": "code",
   "execution_count": 49,
   "metadata": {},
   "outputs": [],
   "source": [
    "column_data = []\n",
    "for row in row_data:\n",
    "    column_row = []\n",
    "    row_data = row.findAll('td',{})\n",
    "    for idx,data in enumerate(row_data):\n",
    "        if idx == 3 or idx == 5:\n",
    "            p = data.text\n",
    "            p = p.replace(',','')\n",
    "            column_row.append(p)\n",
    "        else:\n",
    "            column_row.append(data.text)\n",
    "    column_data.append(column_row)\n",
    "            "
   ]
  },
  {
   "cell_type": "code",
   "execution_count": 51,
   "metadata": {},
   "outputs": [
    {
     "name": "stdout",
     "output_type": "stream",
     "text": [
      "76\n"
     ]
    }
   ],
   "source": [
    "print(len(column_data))"
   ]
  },
  {
   "cell_type": "markdown",
   "metadata": {},
   "source": [
    "### Convet the Extracted Data in CSV Format"
   ]
  },
  {
   "cell_type": "code",
   "execution_count": 56,
   "metadata": {},
   "outputs": [],
   "source": [
    "filename = 'Fantasy Football Leaders.csv'\n",
    "with open(filename, 'w', encoding = 'utf-8') as f:\n",
    "    # Write the header\n",
    "    header_string = ','.join(col_title)\n",
    "    header_string += '\\n'\n",
    "    f.write(header_string)\n",
    "    \n",
    "    for row in column_data:\n",
    "        row_string = ','.join(row)\n",
    "        row_string += '\\n'\n",
    "        f.write(row_string)"
   ]
  },
  {
   "cell_type": "code",
   "execution_count": 57,
   "metadata": {},
   "outputs": [],
   "source": [
    "import pandas as pd"
   ]
  },
  {
   "cell_type": "code",
   "execution_count": 59,
   "metadata": {},
   "outputs": [],
   "source": [
    "df = pd.read_csv(\"Fantasy Football Leaders.csv\")"
   ]
  },
  {
   "cell_type": "code",
   "execution_count": 61,
   "metadata": {},
   "outputs": [
    {
     "data": {
      "text/html": [
       "<div>\n",
       "<style scoped>\n",
       "    .dataframe tbody tr th:only-of-type {\n",
       "        vertical-align: middle;\n",
       "    }\n",
       "\n",
       "    .dataframe tbody tr th {\n",
       "        vertical-align: top;\n",
       "    }\n",
       "\n",
       "    .dataframe thead th {\n",
       "        text-align: right;\n",
       "    }\n",
       "</style>\n",
       "<table border=\"1\" class=\"dataframe\">\n",
       "  <thead>\n",
       "    <tr style=\"text-align: right;\">\n",
       "      <th></th>\n",
       "      <th>Rank</th>\n",
       "      <th>Player</th>\n",
       "      <th>Team</th>\n",
       "      <th>Points</th>\n",
       "      <th>Games</th>\n",
       "      <th>Avg</th>\n",
       "    </tr>\n",
       "  </thead>\n",
       "  <tbody>\n",
       "    <tr>\n",
       "      <th>0</th>\n",
       "      <td>1</td>\n",
       "      <td>Cam Newton</td>\n",
       "      <td>NE</td>\n",
       "      <td>389.08</td>\n",
       "      <td>16</td>\n",
       "      <td>24.32</td>\n",
       "    </tr>\n",
       "    <tr>\n",
       "      <th>1</th>\n",
       "      <td>2</td>\n",
       "      <td>Tom Brady</td>\n",
       "      <td>TB</td>\n",
       "      <td>343.70</td>\n",
       "      <td>16</td>\n",
       "      <td>21.48</td>\n",
       "    </tr>\n",
       "    <tr>\n",
       "      <th>2</th>\n",
       "      <td>3</td>\n",
       "      <td>Russell Wilson</td>\n",
       "      <td>SEA</td>\n",
       "      <td>336.36</td>\n",
       "      <td>16</td>\n",
       "      <td>21.02</td>\n",
       "    </tr>\n",
       "    <tr>\n",
       "      <th>3</th>\n",
       "      <td>4</td>\n",
       "      <td>Blake Bortles</td>\n",
       "      <td>DEN</td>\n",
       "      <td>316.12</td>\n",
       "      <td>16</td>\n",
       "      <td>19.76</td>\n",
       "    </tr>\n",
       "    <tr>\n",
       "      <th>4</th>\n",
       "      <td>5</td>\n",
       "      <td>Carson Palmer</td>\n",
       "      <td>FA</td>\n",
       "      <td>309.24</td>\n",
       "      <td>16</td>\n",
       "      <td>19.33</td>\n",
       "    </tr>\n",
       "    <tr>\n",
       "      <th>5</th>\n",
       "      <td>6</td>\n",
       "      <td>Drew Brees</td>\n",
       "      <td>NO</td>\n",
       "      <td>306.44</td>\n",
       "      <td>15</td>\n",
       "      <td>20.43</td>\n",
       "    </tr>\n",
       "    <tr>\n",
       "      <th>6</th>\n",
       "      <td>7</td>\n",
       "      <td>Aaron Rodgers</td>\n",
       "      <td>GB</td>\n",
       "      <td>301.24</td>\n",
       "      <td>16</td>\n",
       "      <td>18.83</td>\n",
       "    </tr>\n",
       "    <tr>\n",
       "      <th>7</th>\n",
       "      <td>8</td>\n",
       "      <td>Kirk Cousins</td>\n",
       "      <td>MIN</td>\n",
       "      <td>293.44</td>\n",
       "      <td>16</td>\n",
       "      <td>18.34</td>\n",
       "    </tr>\n",
       "    <tr>\n",
       "      <th>8</th>\n",
       "      <td>9</td>\n",
       "      <td>Matthew Stafford</td>\n",
       "      <td>DET</td>\n",
       "      <td>289.78</td>\n",
       "      <td>16</td>\n",
       "      <td>18.11</td>\n",
       "    </tr>\n",
       "    <tr>\n",
       "      <th>9</th>\n",
       "      <td>10</td>\n",
       "      <td>Eli Manning</td>\n",
       "      <td>FA</td>\n",
       "      <td>287.54</td>\n",
       "      <td>16</td>\n",
       "      <td>17.97</td>\n",
       "    </tr>\n",
       "  </tbody>\n",
       "</table>\n",
       "</div>"
      ],
      "text/plain": [
       "   Rank            Player Team  Points  Games    Avg\n",
       "0     1        Cam Newton   NE  389.08     16  24.32\n",
       "1     2         Tom Brady   TB  343.70     16  21.48\n",
       "2     3    Russell Wilson  SEA  336.36     16  21.02\n",
       "3     4     Blake Bortles  DEN  316.12     16  19.76\n",
       "4     5     Carson Palmer   FA  309.24     16  19.33\n",
       "5     6        Drew Brees   NO  306.44     15  20.43\n",
       "6     7     Aaron Rodgers   GB  301.24     16  18.83\n",
       "7     8      Kirk Cousins  MIN  293.44     16  18.34\n",
       "8     9  Matthew Stafford  DET  289.78     16  18.11\n",
       "9    10       Eli Manning   FA  287.54     16  17.97"
      ]
     },
     "execution_count": 61,
     "metadata": {},
     "output_type": "execute_result"
    }
   ],
   "source": [
    "df.head(n=10)"
   ]
  },
  {
   "cell_type": "markdown",
   "metadata": {},
   "source": [
    "### For Accessing the data in Data frame "
   ]
  },
  {
   "cell_type": "code",
   "execution_count": 62,
   "metadata": {
    "scrolled": true
   },
   "outputs": [
    {
     "data": {
      "text/plain": [
       "Rank              2\n",
       "Player    Tom Brady\n",
       "Team             TB\n",
       "Points        343.7\n",
       "Games            16\n",
       "Avg           21.48\n",
       "Name: 1, dtype: object"
      ]
     },
     "execution_count": 62,
     "metadata": {},
     "output_type": "execute_result"
    }
   ],
   "source": [
    "df.iloc[1]"
   ]
  },
  {
   "cell_type": "code",
   "execution_count": 63,
   "metadata": {},
   "outputs": [
    {
     "data": {
      "text/plain": [
       "336.36"
      ]
     },
     "execution_count": 63,
     "metadata": {},
     "output_type": "execute_result"
    }
   ],
   "source": [
    "df.iloc[2][3]"
   ]
  },
  {
   "cell_type": "code",
   "execution_count": 64,
   "metadata": {},
   "outputs": [
    {
     "data": {
      "text/plain": [
       "343.7"
      ]
     },
     "execution_count": 64,
     "metadata": {},
     "output_type": "execute_result"
    }
   ],
   "source": [
    "df.iloc[1][3]"
   ]
  }
 ],
 "metadata": {
  "kernelspec": {
   "display_name": "Python 3",
   "language": "python",
   "name": "python3"
  },
  "language_info": {
   "codemirror_mode": {
    "name": "ipython",
    "version": 3
   },
   "file_extension": ".py",
   "mimetype": "text/x-python",
   "name": "python",
   "nbconvert_exporter": "python",
   "pygments_lexer": "ipython3",
   "version": "3.7.6"
  }
 },
 "nbformat": 4,
 "nbformat_minor": 4
}
